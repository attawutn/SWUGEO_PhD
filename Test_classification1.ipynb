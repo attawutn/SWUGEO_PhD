{
 "cells": [
  {
   "cell_type": "code",
   "execution_count": 1,
   "metadata": {},
   "outputs": [],
   "source": [
    "import pandas as pd"
   ]
  },
  {
   "cell_type": "code",
   "execution_count": 13,
   "metadata": {},
   "outputs": [],
   "source": [
    "df = pd.read_csv(\"/Users/Attawut/Documents/XGboost/CSV/test_data.csv\",skiprows = 1,sep='\\t')"
   ]
  },
  {
   "cell_type": "code",
   "execution_count": 14,
   "metadata": {},
   "outputs": [
    {
     "name": "stdout",
     "output_type": "stream",
     "text": [
      "         featureId  Sigma0_VH_db:float  Sigma0_VV_db:float\n",
      "0                0          -13.476408           -8.839061\n",
      "1                1          -16.021708          -11.440556\n",
      "2                2          -19.136347          -15.000686\n",
      "3                3          -19.236155          -16.871645\n",
      "4                4          -18.535551          -15.830413\n",
      "...            ...                 ...                 ...\n",
      "3517180    3517180          -19.902933          -14.456898\n",
      "3517181    3517181          -18.111210          -13.069438\n",
      "3517182    3517182          -16.349700          -12.336549\n",
      "3517183    3517183          -15.781237          -10.962873\n",
      "3517184    3517184          -16.237406           -8.479803\n",
      "\n",
      "[3517185 rows x 3 columns]\n"
     ]
    }
   ],
   "source": [
    "print(df)"
   ]
  },
  {
   "cell_type": "code",
   "execution_count": null,
   "metadata": {},
   "outputs": [],
   "source": []
  }
 ],
 "metadata": {
  "kernelspec": {
   "display_name": "Python 3",
   "language": "python",
   "name": "python3"
  },
  "language_info": {
   "codemirror_mode": {
    "name": "ipython",
    "version": 3
   },
   "file_extension": ".py",
   "mimetype": "text/x-python",
   "name": "python",
   "nbconvert_exporter": "python",
   "pygments_lexer": "ipython3",
   "version": "3.7.6"
  }
 },
 "nbformat": 4,
 "nbformat_minor": 4
}
